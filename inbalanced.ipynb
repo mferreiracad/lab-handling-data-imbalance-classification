{
 "cells": [
  {
   "cell_type": "code",
   "execution_count": null,
   "id": "817cc536",
   "metadata": {},
   "outputs": [],
   "source": [
    "import pandas as pd\n",
    "import numpy as np\n",
    "import statsmodels.api as sm\n",
    "import seaborn as sns\n",
    "import matplotlib.pyplot as plt\n",
    "from sklearn.model_selection import train_test_split\n",
    "from sklearn.preprocessing import MinMaxScaler\n",
    "from sklearn.linear_model import LogisticRegression\n",
    "import warnings\n",
    "from sklearn.metrics import precision_score\n",
    "from sklearn.metrics import recall_score\n",
    "from sklearn.metrics import f1_score\n",
    "from sklearn.utils import resample\n",
    "from imblearn.over_sampling import SMOTE\n",
    "from sklearn import metrics\n",
    "import statsmodels.api as sm\n",
    "from sklearn.model_selection import cross_val_score\n",
    "from sklearn.tree import DecisionTreeClassifier\n",
    "from sklearn.preprocessing import OneHotEncoder\n",
    "from sklearn.preprocessing import StandardScaler\n",
    "from sklearn.ensemble import RandomForestClassifier\n",
    "from sklearn.metrics import confusion_matrix\n",
    "from sklearn.ensemble import RandomForestRegressor\n"
   ]
  },
  {
   "cell_type": "code",
   "execution_count": null,
   "id": "bfb244b9",
   "metadata": {},
   "outputs": [],
   "source": [
    "categorical = pd.read_csv('files_for_lab/categorical7_02.csv')\n",
    "numerical = pd.read_csv('files_for_lab/numerical7_02.csv')\n",
    "targets = pd.read_csv('files_for_lab/target7_02.csv')"
   ]
  },
  {
   "cell_type": "code",
   "execution_count": null,
   "id": "eaa4bf9a",
   "metadata": {},
   "outputs": [],
   "source": [
    "def drop(x):\n",
    "    x = x.drop(columns='Unnamed: 0')\n",
    "    return x\n",
    "    \n",
    "categorical = drop(categorical)\n",
    "numerical = drop(numerical)\n",
    "targets = drop(targets)"
   ]
  },
  {
   "cell_type": "code",
   "execution_count": null,
   "id": "66c4081b",
   "metadata": {},
   "outputs": [],
   "source": [
    "display(numerical.head(2))\n",
    "display(targets.head(2))\n",
    "display(categorical.head(2))\n",
    "display(categorical.shape)"
   ]
  },
  {
   "cell_type": "code",
   "execution_count": null,
   "id": "c463a312",
   "metadata": {},
   "outputs": [],
   "source": [
    "categorical['VETERANS'] = categorical['VETERANS'].fillna('N')\n",
    "categorical = categorical.drop(columns = ['OSOURCE','NOEXCH','SOLIH','MDMAUD','ZIP'])\n",
    "categorical['DATASRCE'] = categorical['DATASRCE'].dropna()\n"
   ]
  },
  {
   "cell_type": "code",
   "execution_count": null,
   "id": "3b397702",
   "metadata": {},
   "outputs": [],
   "source": [
    "#Categorical\n",
    "\n",
    "encoder = OneHotEncoder(drop='first').fit(categorical)\n",
    "encoded_categorical = encoder.transform(categorical).toarray()\n",
    "encoded_categorical = pd.DataFrame(encoded_categorical)\n",
    "encoded_categorical"
   ]
  },
  {
   "cell_type": "code",
   "execution_count": null,
   "id": "6f2ec887",
   "metadata": {},
   "outputs": [],
   "source": [
    "transformer = StandardScaler().fit(numerical)\n",
    "numerical_scaled = transformer.transform(numerical)"
   ]
  },
  {
   "cell_type": "code",
   "execution_count": null,
   "id": "33ce88a9",
   "metadata": {},
   "outputs": [],
   "source": [
    "numerical_scaled = pd.DataFrame(numerical_scaled, columns = numerical.columns)"
   ]
  },
  {
   "cell_type": "code",
   "execution_count": null,
   "id": "3c846915",
   "metadata": {},
   "outputs": [],
   "source": [
    "all_data = pd.concat((numerical_scaled,targets,encoded_categorical),axis=1)\n",
    "all_data.info()"
   ]
  },
  {
   "cell_type": "code",
   "execution_count": null,
   "id": "b5cb24ed",
   "metadata": {
    "scrolled": true
   },
   "outputs": [],
   "source": [
    "for i in all_data.isna().sum():\n",
    "    print(i)\n"
   ]
  },
  {
   "cell_type": "code",
   "execution_count": null,
   "id": "86d5c835",
   "metadata": {},
   "outputs": [],
   "source": [
    "newdat = all_data[all_data['TARGET_B']==1]\n",
    "X = newdat.drop(columns=['TARGET_B','TARGET_D'])\n",
    "y = newdat['TARGET_D']"
   ]
  },
  {
   "cell_type": "code",
   "execution_count": null,
   "id": "6f399740",
   "metadata": {},
   "outputs": [],
   "source": [
    "y"
   ]
  },
  {
   "cell_type": "code",
   "execution_count": null,
   "id": "96eb6a8a",
   "metadata": {},
   "outputs": [],
   "source": [
    "y.shape"
   ]
  },
  {
   "cell_type": "code",
   "execution_count": null,
   "id": "1ba2247a",
   "metadata": {},
   "outputs": [],
   "source": [
    "y.value_counts()"
   ]
  },
  {
   "cell_type": "code",
   "execution_count": null,
   "id": "16da82a1",
   "metadata": {},
   "outputs": [],
   "source": [
    "X_added_constant = sm.add_constant(X)\n",
    "model = sm.OLS(y,X_added_constant).fit()\n",
    "model.summary()"
   ]
  },
  {
   "cell_type": "code",
   "execution_count": null,
   "id": "e808a3e8",
   "metadata": {},
   "outputs": [],
   "source": [
    "p = list(model.pvalues)\n",
    "pp = pd.DataFrame(p, index=model.pvalues.index)\n",
    "pvalues = pp[pp[0]<0.05]\n",
    "pvalues.columns"
   ]
  },
  {
   "cell_type": "code",
   "execution_count": null,
   "id": "5884e5d7",
   "metadata": {},
   "outputs": [],
   "source": [
    "#sort the values to find the top 20\n",
    "pvalues['vals'] = pvalues[0]\n",
    "pvalues = pvalues.drop(0, axis = 1)\n",
    "pvalues = pvalues.sort_values(by = 'vals')\n",
    "pvalues"
   ]
  },
  {
   "cell_type": "code",
   "execution_count": null,
   "id": "e1c2fe74",
   "metadata": {},
   "outputs": [],
   "source": [
    "top30 = pvalues[0:30]\n",
    "top30.drop('const', inplace=True)"
   ]
  },
  {
   "cell_type": "code",
   "execution_count": null,
   "id": "3c86f4cc",
   "metadata": {},
   "outputs": [],
   "source": [
    "##Assign the columns to X\n",
    "xcols = list(top30.index)\n",
    "\n",
    "X = all_data[xcols]\n",
    "y = all_data['TARGET_B']"
   ]
  },
  {
   "cell_type": "code",
   "execution_count": null,
   "id": "f6ca6be6",
   "metadata": {
    "scrolled": false
   },
   "outputs": [],
   "source": [
    "#Heatmap doesn't show us much\n",
    "sns.heatmap(X.corr())\n"
   ]
  },
  {
   "cell_type": "code",
   "execution_count": null,
   "id": "1f4c34e1",
   "metadata": {},
   "outputs": [],
   "source": [
    "X = X[['LASTGIFT',73, 'MINRAMNT', 'RAMNTALL',   'RFA_2F',         72,\n",
    "       'NGIFTALL', 'NEXTDATE',         78,         81,  'TIMELAG',    'ETH16',\n",
    "               31,         46,    'ETHC1',     'HUR1',         50,     'ETH1',\n",
    "          'ETH13',    'ETH15']]"
   ]
  },
  {
   "cell_type": "code",
   "execution_count": null,
   "id": "68409b9a",
   "metadata": {},
   "outputs": [],
   "source": [
    "X.shape, y.shape"
   ]
  },
  {
   "cell_type": "code",
   "execution_count": null,
   "id": "58b2848a",
   "metadata": {},
   "outputs": [],
   "source": [
    "all_data['TARGET_B'].value_counts()"
   ]
  },
  {
   "cell_type": "code",
   "execution_count": null,
   "id": "5e312435",
   "metadata": {},
   "outputs": [],
   "source": [
    "#train-test-split\n",
    "X_train, X_test, y_train, y_test = train_test_split(X, y, random_state=0)"
   ]
  },
  {
   "cell_type": "code",
   "execution_count": null,
   "id": "9f55350e",
   "metadata": {},
   "outputs": [],
   "source": [
    "#Scaling\n",
    "transformer = MinMaxScaler().fit(X_train)\n",
    "\n",
    "#Normalising X_train/X_test\n",
    "X_train_normalised = transformer.transform(X_train)\n",
    "X_test_normalised = transformer.transform(X_test)\n",
    "\n",
    "#Back into dfs\n",
    "X_train_normalised = pd.DataFrame(X_train_normalised, columns = X_train.columns) \n",
    "X_test_normalised = pd.DataFrame(X_test_normalised, columns = X_test.columns) \n",
    "display(X_train_normalised.head())\n",
    "display(X_train_normalised.shape)"
   ]
  },
  {
   "cell_type": "code",
   "execution_count": null,
   "id": "274011b6",
   "metadata": {},
   "outputs": [],
   "source": [
    "X_train_normalised.info()"
   ]
  },
  {
   "cell_type": "code",
   "execution_count": null,
   "id": "d9d4e150",
   "metadata": {},
   "outputs": [],
   "source": [
    "y_train = y_train.reset_index(drop=True) \n",
    "y_test = y_test.reset_index(drop=True) \n"
   ]
  },
  {
   "cell_type": "code",
   "execution_count": null,
   "id": "a350e2fc",
   "metadata": {},
   "outputs": [],
   "source": [
    "classification_untreat = LogisticRegression(random_state=0, solver='saga', multi_class='multinomial').fit(X_train_normalised, y_train)"
   ]
  },
  {
   "cell_type": "code",
   "execution_count": null,
   "id": "57a877a6",
   "metadata": {},
   "outputs": [],
   "source": [
    "classification_untreat.score(X_test_normalised, y_test)"
   ]
  },
  {
   "cell_type": "code",
   "execution_count": null,
   "id": "3c410b8f",
   "metadata": {},
   "outputs": [],
   "source": [
    "pred_untreat = classification_untreat.predict(X_test_normalised)"
   ]
  },
  {
   "cell_type": "code",
   "execution_count": null,
   "id": "ed3c4632",
   "metadata": {},
   "outputs": [],
   "source": [
    "print(metrics.classification_report(y_test, pred_untreat))"
   ]
  },
  {
   "cell_type": "code",
   "execution_count": null,
   "id": "2e57acfe",
   "metadata": {},
   "outputs": [],
   "source": [
    "dcombine = pd.concat((y_train, X_train_normalised), axis =1)\n",
    "dcombine.head()"
   ]
  },
  {
   "cell_type": "code",
   "execution_count": null,
   "id": "fa5789f1",
   "metadata": {},
   "outputs": [],
   "source": [
    "yes = dcombine[dcombine['TARGET_B'] == 1]\n",
    "no = dcombine[dcombine['TARGET_B'] == 0] "
   ]
  },
  {
   "cell_type": "code",
   "execution_count": null,
   "id": "fbec5dee",
   "metadata": {},
   "outputs": [],
   "source": [
    "print('Yes',yes.shape)\n",
    "print('No',no.shape)"
   ]
  },
  {
   "cell_type": "code",
   "execution_count": null,
   "id": "b9e6e2f5",
   "metadata": {},
   "outputs": [],
   "source": [
    "nods = resample(no, replace=False, n_samples = len(yes))\n",
    "print('Yes',yes.shape)\n",
    "print('No',nods.shape)"
   ]
  },
  {
   "cell_type": "code",
   "execution_count": null,
   "id": "486cf019",
   "metadata": {},
   "outputs": [],
   "source": [
    "combined_under = pd.concat([yes,nods], axis = 0)\n",
    "combined_under.isna().sum()"
   ]
  },
  {
   "cell_type": "code",
   "execution_count": null,
   "id": "51f5f6d9",
   "metadata": {},
   "outputs": [],
   "source": [
    "#SPLIT X AND y for training\n",
    "\n",
    "X_train_under = combined_under.drop(columns=['TARGET_B']) \n",
    "y_train_under = combined_under['TARGET_B']"
   ]
  },
  {
   "cell_type": "code",
   "execution_count": null,
   "id": "6a97326a",
   "metadata": {},
   "outputs": [],
   "source": [
    "classification_under = LogisticRegression(random_state=0, solver='saga', \n",
    "                                    multi_class='multinomial').fit(X_train_under, y_train_under)"
   ]
  },
  {
   "cell_type": "code",
   "execution_count": null,
   "id": "c260f728",
   "metadata": {},
   "outputs": [],
   "source": [
    "classification_under.score(X_test_normalised, y_test)"
   ]
  },
  {
   "cell_type": "code",
   "execution_count": null,
   "id": "975421ae",
   "metadata": {},
   "outputs": [],
   "source": [
    "pred_under = classification_under.predict(X_test_normalised)\n",
    "print(metrics.classification_report(y_test, pred_under)) "
   ]
  },
  {
   "cell_type": "code",
   "execution_count": null,
   "id": "f0c53c96",
   "metadata": {},
   "outputs": [],
   "source": [
    "model1 = DecisionTreeClassifier()\n",
    "model2 = LogisticRegression()\n",
    "\n",
    "model_pipeline = [model1, model2]\n",
    "model_names = ['Decision Tree Classifier', 'Logistic Regression']\n",
    "scores = {}\n",
    "for model, model_name in zip(model_pipeline, model_names):\n",
    "    mean_score = np.mean(cross_val_score(model, X_train_under, y_train_under, cv=5))\n",
    "    scores[model_name] = mean_score"
   ]
  },
  {
   "cell_type": "code",
   "execution_count": null,
   "id": "1433d57e",
   "metadata": {},
   "outputs": [],
   "source": [
    "clf = RandomForestClassifier(max_depth=5,\n",
    "                             min_samples_split=20,\n",
    "                             min_samples_leaf =20,\n",
    "                             max_samples=0.2,\n",
    "                             random_state = 42)\n",
    "clf.fit(X_train, y_train)\n",
    "print(clf.score(X_train, y_train))\n",
    "print(clf.score(X_test, y_test))\n",
    "\n",
    "y_pred = clf.predict(X_test)\n",
    "display(y_test.value_counts())\n",
    "display(confusion_matrix(y_test, y_pred))"
   ]
  },
  {
   "cell_type": "code",
   "execution_count": null,
   "id": "c8056425",
   "metadata": {},
   "outputs": [],
   "source": [
    "from sklearn.model_selection import cross_val_score\n",
    "clf = RandomForestClassifier(max_depth=5,\n",
    "                             min_samples_split=20,\n",
    "                             min_samples_leaf =20)\n",
    "cross_val_scores = cross_val_score(clf, X_train, y_train, cv=10)\n",
    "print(np.mean(cross_val_scores))"
   ]
  },
  {
   "cell_type": "code",
   "execution_count": null,
   "id": "96157f8e",
   "metadata": {},
   "outputs": [],
   "source": [
    "X_test\n"
   ]
  },
  {
   "cell_type": "code",
   "execution_count": null,
   "id": "b79afb0b",
   "metadata": {},
   "outputs": [],
   "source": [
    "X_train = X_train.reset_index(drop = True)\n",
    "X_test = X_test.reset_index(drop = True)\n",
    "train = pd.concat([X_train, y_train], axis=1).reset_index(drop=True)\n",
    "test = pd.concat([X_test, y_test], axis=1)"
   ]
  },
  {
   "cell_type": "code",
   "execution_count": null,
   "id": "5acf46ee",
   "metadata": {},
   "outputs": [],
   "source": [
    "train"
   ]
  },
  {
   "cell_type": "code",
   "execution_count": null,
   "id": "6f8c7070",
   "metadata": {},
   "outputs": [],
   "source": [
    "train_donation = train[train['TARGET_B']==1].reset_index(drop = True)\n",
    "test_donation = test[test['TARGET_B']==1].reset_index(drop = True)"
   ]
  },
  {
   "cell_type": "code",
   "execution_count": null,
   "id": "076f117c",
   "metadata": {},
   "outputs": [],
   "source": [
    "X_train_donation = train_donation.drop(['TARGET_B'], axis=1)\n",
    "X_test_donation = test_donation.drop(['TARGET_B'], axis=1)\n",
    "y_train_donation = newdat['TARGET_D']\n",
    "y_test_donation = newdat['TARGET_D']\n"
   ]
  },
  {
   "cell_type": "code",
   "execution_count": null,
   "id": "18302b68",
   "metadata": {
    "scrolled": true
   },
   "outputs": [],
   "source": [
    "\n",
    "reg = RandomForestRegressor(max_depth=4, #Max number of questions to ask\n",
    "                             min_samples_split=2, #Amount of rows still considered at every Q\n",
    "                             min_samples_leaf =10, #Ulimate answer based on at least this many rows\n",
    "                             max_samples=0.8, #Fraction of X-train to use in each tree (hyperparameter to tweak)\n",
    "                             random_state = 42)\n",
    "reg.fit(X_train_donation, y_train_donation)\n",
    "print('train score: ', reg.score(X_train, y_train))\n",
    "print('test score: ', reg.score(X_test, y_test))\n",
    "y_pred = reg.predict(X_test_donation)\n",
    "print('mse: ',metrics.mean_squared_error(y_test_donation, y_pred))"
   ]
  },
  {
   "cell_type": "code",
   "execution_count": null,
   "id": "892506f0",
   "metadata": {},
   "outputs": [],
   "source": []
  }
 ],
 "metadata": {
  "kernelspec": {
   "display_name": "Python 3 (ipykernel)",
   "language": "python",
   "name": "python3"
  },
  "language_info": {
   "codemirror_mode": {
    "name": "ipython",
    "version": 3
   },
   "file_extension": ".py",
   "mimetype": "text/x-python",
   "name": "python",
   "nbconvert_exporter": "python",
   "pygments_lexer": "ipython3",
   "version": "3.9.12"
  },
  "toc": {
   "base_numbering": 1,
   "nav_menu": {},
   "number_sections": true,
   "sideBar": true,
   "skip_h1_title": false,
   "title_cell": "Table of Contents",
   "title_sidebar": "Contents",
   "toc_cell": false,
   "toc_position": {},
   "toc_section_display": true,
   "toc_window_display": false
  }
 },
 "nbformat": 4,
 "nbformat_minor": 5
}
